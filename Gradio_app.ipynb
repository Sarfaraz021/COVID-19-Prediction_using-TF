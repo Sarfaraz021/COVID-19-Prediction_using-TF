{
 "cells": [
  {
   "cell_type": "code",
   "execution_count": 5,
   "id": "5172c116",
   "metadata": {},
   "outputs": [],
   "source": [
    "import gradio as gr\n",
    "import tensorflow as tf\n",
    "import numpy as np\n",
    "from PIL import Image\n"
   ]
  },
  {
   "cell_type": "code",
   "execution_count": 6,
   "id": "004c1bc7",
   "metadata": {},
   "outputs": [],
   "source": [
    "from tensorflow.keras.models import load_model"
   ]
  },
  {
   "cell_type": "code",
   "execution_count": 14,
   "id": "893b971b",
   "metadata": {},
   "outputs": [],
   "source": [
    "class_names  = ['COVID_ NEGATIVE', 'COVID_POSSITIVE']"
   ]
  },
  {
   "cell_type": "code",
   "execution_count": 15,
   "id": "25eb989a",
   "metadata": {},
   "outputs": [],
   "source": [
    "model = load_model('COVIDR.h5')"
   ]
  },
  {
   "cell_type": "code",
   "execution_count": 18,
   "id": "f152b0de",
   "metadata": {},
   "outputs": [],
   "source": [
    "def classfy_image(image):\n",
    "    image = np.array(image)\n",
    "    image = Image.fromarray(image)\n",
    "    res_image = image.resize((256,256))\n",
    "    res_image = np.array(res_image)\n",
    "    nor_image = res_image.astype('float32')/255.0\n",
    "    np_exp = np.expand_dims(nor_image,0)\n",
    "    prediction = model.predict(np_exp)\n",
    "    \n",
    "    predicted_class = class_names[np.argmax(prediction[0])]\n",
    "    return predicted_class\n",
    "\n",
    "\n",
    "    \n",
    "    "
   ]
  },
  {
   "cell_type": "code",
   "execution_count": 20,
   "id": "ff3411b3",
   "metadata": {},
   "outputs": [
    {
     "name": "stderr",
     "output_type": "stream",
     "text": [
      "C:\\Users\\Qasir\\.conda\\envs\\python\\lib\\site-packages\\gradio\\inputs.py:257: UserWarning: Usage of gradio.inputs is deprecated, and will not be supported in the future, please import your component from gradio.components\n",
      "  warnings.warn(\n",
      "C:\\Users\\Qasir\\.conda\\envs\\python\\lib\\site-packages\\gradio\\deprecation.py:40: UserWarning: `optional` parameter is deprecated, and it has no effect\n",
      "  warnings.warn(value)\n",
      "C:\\Users\\Qasir\\.conda\\envs\\python\\lib\\site-packages\\gradio\\outputs.py:197: UserWarning: Usage of gradio.outputs is deprecated, and will not be supported in the future, please import your components from gradio.components\n",
      "  warnings.warn(\n",
      "C:\\Users\\Qasir\\.conda\\envs\\python\\lib\\site-packages\\gradio\\deprecation.py:40: UserWarning: The 'type' parameter has been deprecated. Use the Number component instead.\n",
      "  warnings.warn(value)\n"
     ]
    },
    {
     "name": "stdout",
     "output_type": "stream",
     "text": [
      "Running on local URL:  http://127.0.0.1:7862\n",
      "\n",
      "To create a public link, set `share=True` in `launch()`.\n"
     ]
    },
    {
     "data": {
      "text/html": [
       "<div><iframe src=\"http://127.0.0.1:7862/\" width=\"100%\" height=\"500\" allow=\"autoplay; camera; microphone; clipboard-read; clipboard-write;\" frameborder=\"0\" allowfullscreen></iframe></div>"
      ],
      "text/plain": [
       "<IPython.core.display.HTML object>"
      ]
     },
     "metadata": {},
     "output_type": "display_data"
    },
    {
     "data": {
      "text/plain": []
     },
     "execution_count": 20,
     "metadata": {},
     "output_type": "execute_result"
    },
    {
     "name": "stdout",
     "output_type": "stream",
     "text": [
      "1/1 [==============================] - 0s 182ms/step\n"
     ]
    }
   ],
   "source": [
    "input_interface = gr.inputs.Image()\n",
    "output_interface = gr.outputs.Label()\n",
    "\n",
    "# Create the app\n",
    "app = gr.Interface(fn=classfy_image, inputs=input_interface, outputs=output_interface, title=\"Covid prediction using AI\")\n",
    "\n",
    "# Run the app\n",
    "app.launch()"
   ]
  },
  {
   "cell_type": "code",
   "execution_count": null,
   "id": "820e0d45",
   "metadata": {},
   "outputs": [],
   "source": []
  }
 ],
 "metadata": {
  "kernelspec": {
   "display_name": "Python 3 (ipykernel)",
   "language": "python",
   "name": "python3"
  },
  "language_info": {
   "codemirror_mode": {
    "name": "ipython",
    "version": 3
   },
   "file_extension": ".py",
   "mimetype": "text/x-python",
   "name": "python",
   "nbconvert_exporter": "python",
   "pygments_lexer": "ipython3",
   "version": "3.8.16"
  }
 },
 "nbformat": 4,
 "nbformat_minor": 5
}
